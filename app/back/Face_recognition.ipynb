{
 "cells": [
  {
   "cell_type": "code",
   "execution_count": 3,
   "metadata": {},
   "outputs": [
    {
     "ename": "KeyboardInterrupt",
     "evalue": "",
     "output_type": "error",
     "traceback": [
      "\u001b[1;31m---------------------------------------------------------------------------\u001b[0m",
      "\u001b[1;31mKeyboardInterrupt\u001b[0m                         Traceback (most recent call last)",
      "Cell \u001b[1;32mIn[3], line 6\u001b[0m\n\u001b[0;32m      3\u001b[0m cap \u001b[39m=\u001b[39m cv2\u001b[39m.\u001b[39mVideoCapture(\u001b[39m'\u001b[39m\u001b[39mhttp://10.202.40.12:4747/video\u001b[39m\u001b[39m'\u001b[39m)\n\u001b[0;32m      5\u001b[0m \u001b[39mwhile\u001b[39;00m \u001b[39mTrue\u001b[39;00m:\n\u001b[1;32m----> 6\u001b[0m     ret, frame \u001b[39m=\u001b[39m cap\u001b[39m.\u001b[39;49mread()\n\u001b[0;32m      8\u001b[0m     cv2\u001b[39m.\u001b[39mimshow(\u001b[39m\"\u001b[39m\u001b[39mframe\u001b[39m\u001b[39m\"\u001b[39m, frame)\n\u001b[0;32m      9\u001b[0m     cv2\u001b[39m.\u001b[39mwaitKey(\u001b[39m1\u001b[39m)\n",
      "\u001b[1;31mKeyboardInterrupt\u001b[0m: "
     ]
    },
    {
     "ename": "",
     "evalue": "",
     "output_type": "error",
     "traceback": [
      "\u001b[1;31mThe Kernel crashed while executing code in the the current cell or a previous cell. Please review the code in the cell(s) to identify a possible cause of the failure. Click <a href='https://aka.ms/vscodeJupyterKernelCrash'>here</a> for more info. View Jupyter <a href='command:jupyter.viewOutput'>log</a> for further details."
     ]
    }
   ],
   "source": [
    "import cv2\n",
    "\n",
    "cap = cv2.VideoCapture('http://10.202.40.12:4747/video')\n",
    "\n",
    "while True:\n",
    "    ret, frame = cap.read()\n",
    "    frame_per_second = cap.get(cv2.CAP_PROP_FPS) \n",
    "    "
   ]
  },
  {
   "cell_type": "code",
   "execution_count": 5,
   "metadata": {},
   "outputs": [
    {
     "name": "stderr",
     "output_type": "stream",
     "text": [
      "ERROR: Could not find a version that satisfies the requirement tensorflow (from versions: none)\n",
      "ERROR: No matching distribution found for tensorflow\n"
     ]
    }
   ],
   "source": [
    "!pip install tensorflow\n"
   ]
  },
  {
   "cell_type": "code",
   "execution_count": 4,
   "metadata": {},
   "outputs": [
    {
     "name": "stdout",
     "output_type": "stream",
     "text": [
      "frame0.jpg\n"
     ]
    }
   ],
   "source": [
    "import cv2\n",
    "import os\n",
    "import time\n",
    "\n",
    "step = 1\n",
    "frames_count = 10\n",
    "cam = cv2.VideoCapture('http://10.202.40.12:4747/video')\n",
    "\n",
    "currentframe = 0\n",
    "frame_per_second = cam.get(cv2.CAP_PROP_FPS) \n",
    "frames_captured = 0\n",
    "\n",
    "while (True):\n",
    "    ret, frame = cam.read()\n",
    "    if ret:\n",
    "        if currentframe > (step*frame_per_second):  \n",
    "            currentframe = 0\n",
    "            name = 'frame' + str(frames_captured) + '.jpg'\n",
    "            print(name)\n",
    "            cv2.imwrite(name, frame)\n",
    "            break          \n",
    "            frames_captured+=1\n",
    "            if frames_captured>frames_count-1:\n",
    "                ret = False\n",
    "        currentframe += 1           \n",
    "    if ret==False:\n",
    "        break\n",
    "cam.release()\n",
    "cv2.destroyAllWindows()"
   ]
  },
  {
   "cell_type": "code",
   "execution_count": 13,
   "metadata": {},
   "outputs": [
    {
     "ename": "TypeError",
     "evalue": "'_io.TextIOWrapper' object is not subscriptable",
     "output_type": "error",
     "traceback": [
      "\u001b[1;31m---------------------------------------------------------------------------\u001b[0m",
      "\u001b[1;31mTypeError\u001b[0m                                 Traceback (most recent call last)",
      "Cell \u001b[1;32mIn[13], line 8\u001b[0m\n\u001b[0;32m      6\u001b[0m \u001b[39m# Writing to sample.json\u001b[39;00m\n\u001b[0;32m      7\u001b[0m \u001b[39mwith\u001b[39;00m \u001b[39mopen\u001b[39m(\u001b[39m\"\u001b[39m\u001b[39msample.json\u001b[39m\u001b[39m\"\u001b[39m, \u001b[39m\"\u001b[39m\u001b[39mr+\u001b[39m\u001b[39m\"\u001b[39m) \u001b[39mas\u001b[39;00m outfile:\n\u001b[1;32m----> 8\u001b[0m     outfile[\u001b[39m\"\u001b[39;49m\u001b[39mcamera\u001b[39;49m\u001b[39m\"\u001b[39;49m]\u001b[39m.\u001b[39mappend(command)\n",
      "\u001b[1;31mTypeError\u001b[0m: '_io.TextIOWrapper' object is not subscriptable"
     ]
    }
   ],
   "source": [
    "import json\n",
    "from datetime import datetime\n",
    "import time\n",
    "command = json.dumps({'gate' : 'Validdzadzad', 'password' : \"test\", 'timestamp' : datetime.now().strftime(\"%H:%M:%S\")})\n",
    "       \n",
    "# Writing to sample.json\n",
    "with open(\"sample.json\", \"r+\") as outfile:\n",
    "    json.dump()"
   ]
  },
  {
   "cell_type": "code",
   "execution_count": 14,
   "metadata": {},
   "outputs": [],
   "source": [
    "def write_json(new_data, filename='sample.json'):\n",
    "    with open(filename,'r+') as file:\n",
    "\n",
    "        file_data = json.load(file)\n",
    "\n",
    "        file_data[\"camera\"].append(new_data)\n",
    "\n",
    "        file.seek(0)\n",
    "        \n",
    "        json.dump(file_data, file, indent = 3)\n",
    "\n"
   ]
  },
  {
   "cell_type": "code",
   "execution_count": 15,
   "metadata": {},
   "outputs": [],
   "source": [
    "write_json(command)"
   ]
  },
  {
   "cell_type": "code",
   "execution_count": 29,
   "metadata": {},
   "outputs": [],
   "source": [
    "import csv \n",
    "import json \n",
    "\n",
    "def csv_to_json(csvFilePath, jsonFilePath):\n",
    "    jsonArray = []\n",
    "      \n",
    "    #read csv file\n",
    "    with open(csvFilePath, encoding='utf-8') as csvf: \n",
    "        #load csv file data using csv library's dictionary reader\n",
    "        csvReader = csv.DictReader(csvf) \n",
    "\n",
    "        #convert each csv row into python dict\n",
    "        for row in csvReader: \n",
    "            #add this python dict to json array\n",
    "            jsonArray.append(row)\n",
    "  \n",
    "    #convert python jsonArray to JSON String and write to file\n",
    "    with open(jsonFilePath, 'w', encoding='utf-8') as jsonf: \n",
    "        jsonString = json.dumps(jsonArray, indent=4)\n",
    "        jsonf.write(jsonString)\n",
    "          \n",
    "csvFilePath = r'C:\\Users\\bouzi\\Desktop\\Github\\Security-System-Raspberry-Project\\SecurityGate\\lightTelemetry.csv'\n",
    "jsonFilePath = r'data.json'\n",
    "csv_to_json(csvFilePath, jsonFilePath)\n"
   ]
  },
  {
   "cell_type": "code",
   "execution_count": 12,
   "metadata": {},
   "outputs": [
    {
     "ename": "KeyError",
     "evalue": "0",
     "output_type": "error",
     "traceback": [
      "\u001b[1;31m---------------------------------------------------------------------------\u001b[0m",
      "\u001b[1;31mKeyError\u001b[0m                                  Traceback (most recent call last)",
      "Cell \u001b[1;32mIn[12], line 5\u001b[0m\n\u001b[0;32m      2\u001b[0m \u001b[39mwith\u001b[39;00m \u001b[39mopen\u001b[39m(\u001b[39mr\u001b[39m\u001b[39m\"\u001b[39m\u001b[39mC:\u001b[39m\u001b[39m\\\u001b[39m\u001b[39mUsers\u001b[39m\u001b[39m\\\u001b[39m\u001b[39mbouzi\u001b[39m\u001b[39m\\\u001b[39m\u001b[39mDesktop\u001b[39m\u001b[39m\\\u001b[39m\u001b[39mGithub\u001b[39m\u001b[39m\\\u001b[39m\u001b[39mSecurity-System-Raspberry-Project\u001b[39m\u001b[39m\\\u001b[39m\u001b[39mapp\u001b[39m\u001b[39m\\\u001b[39m\u001b[39mfront\u001b[39m\u001b[39m\\\u001b[39m\u001b[39msrc\u001b[39m\u001b[39m\\\u001b[39m\u001b[39mdata\u001b[39m\u001b[39m\\\u001b[39m\u001b[39mtest.json\u001b[39m\u001b[39m\"\u001b[39m) \u001b[39mas\u001b[39;00m data_file:\n\u001b[0;32m      3\u001b[0m             data \u001b[39m=\u001b[39m json\u001b[39m.\u001b[39mload(data_file)\n\u001b[1;32m----> 5\u001b[0m [data\u001b[39m.\u001b[39;49mpop(\u001b[39m0\u001b[39;49m) \u001b[39mfor\u001b[39;49;00m item \u001b[39min\u001b[39;49;00m \u001b[39mlist\u001b[39;49m(data)]\n\u001b[0;32m      7\u001b[0m \u001b[39mwith\u001b[39;00m \u001b[39mopen\u001b[39m(\u001b[39mr\u001b[39m\u001b[39m\"\u001b[39m\u001b[39mC:\u001b[39m\u001b[39m\\\u001b[39m\u001b[39mUsers\u001b[39m\u001b[39m\\\u001b[39m\u001b[39mbouzi\u001b[39m\u001b[39m\\\u001b[39m\u001b[39mDesktop\u001b[39m\u001b[39m\\\u001b[39m\u001b[39mGithub\u001b[39m\u001b[39m\\\u001b[39m\u001b[39mSecurity-System-Raspberry-Project\u001b[39m\u001b[39m\\\u001b[39m\u001b[39mapp\u001b[39m\u001b[39m\\\u001b[39m\u001b[39mfront\u001b[39m\u001b[39m\\\u001b[39m\u001b[39msrc\u001b[39m\u001b[39m\\\u001b[39m\u001b[39mdata\u001b[39m\u001b[39m\\\u001b[39m\u001b[39mtest.json\u001b[39m\u001b[39m\"\u001b[39m, \u001b[39m\"\u001b[39m\u001b[39mw\u001b[39m\u001b[39m\"\u001b[39m) \u001b[39mas\u001b[39;00m f:\n\u001b[0;32m      8\u001b[0m     json\u001b[39m.\u001b[39mdump(data, f)\n",
      "Cell \u001b[1;32mIn[12], line 5\u001b[0m, in \u001b[0;36m<listcomp>\u001b[1;34m(.0)\u001b[0m\n\u001b[0;32m      2\u001b[0m \u001b[39mwith\u001b[39;00m \u001b[39mopen\u001b[39m(\u001b[39mr\u001b[39m\u001b[39m\"\u001b[39m\u001b[39mC:\u001b[39m\u001b[39m\\\u001b[39m\u001b[39mUsers\u001b[39m\u001b[39m\\\u001b[39m\u001b[39mbouzi\u001b[39m\u001b[39m\\\u001b[39m\u001b[39mDesktop\u001b[39m\u001b[39m\\\u001b[39m\u001b[39mGithub\u001b[39m\u001b[39m\\\u001b[39m\u001b[39mSecurity-System-Raspberry-Project\u001b[39m\u001b[39m\\\u001b[39m\u001b[39mapp\u001b[39m\u001b[39m\\\u001b[39m\u001b[39mfront\u001b[39m\u001b[39m\\\u001b[39m\u001b[39msrc\u001b[39m\u001b[39m\\\u001b[39m\u001b[39mdata\u001b[39m\u001b[39m\\\u001b[39m\u001b[39mtest.json\u001b[39m\u001b[39m\"\u001b[39m) \u001b[39mas\u001b[39;00m data_file:\n\u001b[0;32m      3\u001b[0m             data \u001b[39m=\u001b[39m json\u001b[39m.\u001b[39mload(data_file)\n\u001b[1;32m----> 5\u001b[0m [data\u001b[39m.\u001b[39;49mpop(\u001b[39m0\u001b[39;49m) \u001b[39mfor\u001b[39;00m item \u001b[39min\u001b[39;00m \u001b[39mlist\u001b[39m(data)]\n\u001b[0;32m      7\u001b[0m \u001b[39mwith\u001b[39;00m \u001b[39mopen\u001b[39m(\u001b[39mr\u001b[39m\u001b[39m\"\u001b[39m\u001b[39mC:\u001b[39m\u001b[39m\\\u001b[39m\u001b[39mUsers\u001b[39m\u001b[39m\\\u001b[39m\u001b[39mbouzi\u001b[39m\u001b[39m\\\u001b[39m\u001b[39mDesktop\u001b[39m\u001b[39m\\\u001b[39m\u001b[39mGithub\u001b[39m\u001b[39m\\\u001b[39m\u001b[39mSecurity-System-Raspberry-Project\u001b[39m\u001b[39m\\\u001b[39m\u001b[39mapp\u001b[39m\u001b[39m\\\u001b[39m\u001b[39mfront\u001b[39m\u001b[39m\\\u001b[39m\u001b[39msrc\u001b[39m\u001b[39m\\\u001b[39m\u001b[39mdata\u001b[39m\u001b[39m\\\u001b[39m\u001b[39mtest.json\u001b[39m\u001b[39m\"\u001b[39m, \u001b[39m\"\u001b[39m\u001b[39mw\u001b[39m\u001b[39m\"\u001b[39m) \u001b[39mas\u001b[39;00m f:\n\u001b[0;32m      8\u001b[0m     json\u001b[39m.\u001b[39mdump(data, f)\n",
      "\u001b[1;31mKeyError\u001b[0m: 0"
     ]
    }
   ],
   "source": [
    "import json\n",
    "with open(r\"C:\\Users\\bouzi\\Desktop\\Github\\Security-System-Raspberry-Project\\app\\front\\src\\data\\test.json\") as data_file:\n",
    "            data = json.load(data_file)\n",
    "\n",
    "[data.pop(0) for item in list(data)]\n",
    "\n",
    "with open(r\"C:\\Users\\bouzi\\Desktop\\Github\\Security-System-Raspberry-Project\\app\\front\\src\\data\\test.json\", \"w\") as f:\n",
    "    json.dump(data, f)\n"
   ]
  },
  {
   "cell_type": "code",
   "execution_count": 11,
   "metadata": {},
   "outputs": [],
   "source": [
    "data = {\n",
    "        \"gate\": \"Intruder\",\n",
    "        \"password\": \"1111\",\n",
    "        \"timestamp\": \"12:12:34\"\n",
    "    }\n",
    "with open(r\"C:\\Users\\bouzi\\Desktop\\Github\\Security-System-Raspberry-Project\\app\\front\\src\\data\\test.json\", \"w\") as f:\n",
    "    json.dump(data, f)\n"
   ]
  },
  {
   "cell_type": "code",
   "execution_count": 198,
   "metadata": {},
   "outputs": [],
   "source": [
    "import numpy as np\n",
    "import cv2\n",
    "import os\n",
    "import matplotlib.pyplot as plt\n",
    "\n",
    "# Load the images and store them in a list\n",
    "image_names = os.listdir(r'C:\\Users\\bouzi\\Desktop\\augmented_images\\class_3\\images')\n",
    "images = []\n",
    "for name in image_names:\n",
    "    images.append(cv2.imread(os.path.join(r'C:\\Users\\bouzi\\Desktop\\augmented_images\\class_3\\images', name)))\n",
    "\n",
    "# Define a function to perform data augmentation\n",
    "def augment(image):\n",
    "    \n",
    "    image_array = np.array(image)\n",
    "    angle = np.random.choice([0, 90, 180])\n",
    "    height, width = image_array.shape[:2]\n",
    "    center = (width // 2, height // 2)\n",
    "    rotation_matrix = cv2.getRotationMatrix2D(center, angle, 1.0)\n",
    "    rotated_image = cv2.warpAffine(image_array, rotation_matrix, (width, height))\n",
    "    # Flip the image horizontally\n",
    "    rotated_image = cv2.flip(rotated_image, np.random.choice([0, 1, -1]))\n",
    "    \n",
    "    # Add noise to the image\n",
    "    rotated_image = rotated_image + np.random.normal(0, 20, image.shape)\n",
    "    \n",
    "    # Return the augmented image\n",
    "    return rotated_image\n",
    "\n",
    "# Initialize a list to store the augmented images\n",
    "\n",
    "\n"
   ]
  },
  {
   "cell_type": "code",
   "execution_count": 59,
   "metadata": {},
   "outputs": [
    {
     "data": {
      "text/plain": [
       "1"
      ]
     },
     "execution_count": 59,
     "metadata": {},
     "output_type": "execute_result"
    }
   ],
   "source": [
    "np.random.randint(0, 3)"
   ]
  },
  {
   "cell_type": "code",
   "execution_count": 199,
   "metadata": {},
   "outputs": [],
   "source": [
    "augmented_images = []\n",
    "# Augment each image and store the augmented images in the list\n",
    "for image in images:\n",
    "    augmented_images.extend([augment(image) for i in range(50)])\n",
    "\n",
    "# Save the augmented images to a new folder\n",
    "if not os.path.exists('augmented_images'):\n",
    "    os.makedirs('augmented_images')\n",
    "for i, image in enumerate(augmented_images):\n",
    "    cv2.imwrite(os.path.join('augmented_images', f'image_{i}.jpg'), image)"
   ]
  },
  {
   "cell_type": "code",
   "execution_count": 200,
   "metadata": {},
   "outputs": [
    {
     "name": "stdout",
     "output_type": "stream",
     "text": [
      "image_0.jpg\n",
      "image_1.jpg\n",
      "image_10.jpg\n",
      "image_100.jpg\n",
      "image_101.jpg\n",
      "image_102.jpg\n",
      "image_103.jpg\n",
      "image_104.jpg\n",
      "image_105.jpg\n",
      "image_106.jpg\n",
      "image_107.jpg\n",
      "image_108.jpg\n",
      "image_109.jpg\n",
      "image_11.jpg\n",
      "image_110.jpg\n",
      "image_111.jpg\n",
      "image_112.jpg\n",
      "image_113.jpg\n",
      "image_114.jpg\n",
      "image_115.jpg\n",
      "image_116.jpg\n",
      "image_117.jpg\n",
      "image_118.jpg\n",
      "image_119.jpg\n",
      "image_12.jpg\n",
      "image_120.jpg\n",
      "image_121.jpg\n",
      "image_122.jpg\n",
      "image_123.jpg\n",
      "image_124.jpg\n",
      "image_125.jpg\n",
      "image_126.jpg\n",
      "image_127.jpg\n",
      "image_128.jpg\n",
      "image_129.jpg\n",
      "image_13.jpg\n",
      "image_130.jpg\n",
      "image_131.jpg\n",
      "image_132.jpg\n",
      "image_133.jpg\n",
      "image_134.jpg\n",
      "image_135.jpg\n",
      "image_136.jpg\n",
      "image_137.jpg\n",
      "image_138.jpg\n",
      "image_139.jpg\n",
      "image_14.jpg\n",
      "image_140.jpg\n",
      "image_141.jpg\n",
      "image_142.jpg\n",
      "image_143.jpg\n",
      "image_144.jpg\n",
      "image_145.jpg\n",
      "image_146.jpg\n",
      "image_147.jpg\n",
      "image_148.jpg\n",
      "image_149.jpg\n",
      "image_15.jpg\n",
      "image_150.jpg\n",
      "image_151.jpg\n",
      "image_152.jpg\n",
      "image_153.jpg\n",
      "image_154.jpg\n",
      "image_155.jpg\n",
      "image_156.jpg\n",
      "image_157.jpg\n",
      "image_158.jpg\n",
      "image_159.jpg\n",
      "image_16.jpg\n",
      "image_160.jpg\n",
      "image_161.jpg\n",
      "image_162.jpg\n",
      "image_163.jpg\n",
      "image_164.jpg\n",
      "image_165.jpg\n",
      "image_166.jpg\n",
      "image_167.jpg\n",
      "image_168.jpg\n",
      "image_169.jpg\n",
      "image_17.jpg\n",
      "image_170.jpg\n",
      "image_171.jpg\n",
      "image_172.jpg\n",
      "image_173.jpg\n",
      "image_174.jpg\n",
      "image_175.jpg\n",
      "image_176.jpg\n",
      "image_177.jpg\n",
      "image_178.jpg\n",
      "image_179.jpg\n",
      "image_18.jpg\n",
      "image_180.jpg\n",
      "image_181.jpg\n",
      "image_182.jpg\n",
      "image_183.jpg\n",
      "image_184.jpg\n",
      "image_185.jpg\n",
      "image_186.jpg\n",
      "image_187.jpg\n",
      "image_188.jpg\n",
      "image_189.jpg\n",
      "image_19.jpg\n",
      "image_190.jpg\n",
      "image_191.jpg\n",
      "image_192.jpg\n",
      "image_193.jpg\n",
      "image_194.jpg\n",
      "image_195.jpg\n",
      "image_196.jpg\n",
      "image_197.jpg\n",
      "image_198.jpg\n",
      "image_199.jpg\n",
      "image_2.jpg\n",
      "image_20.jpg\n",
      "image_200.jpg\n",
      "image_201.jpg\n",
      "image_202.jpg\n",
      "image_203.jpg\n",
      "image_204.jpg\n",
      "image_205.jpg\n",
      "image_206.jpg\n",
      "image_207.jpg\n",
      "image_208.jpg\n",
      "image_209.jpg\n",
      "image_21.jpg\n",
      "image_210.jpg\n",
      "image_211.jpg\n",
      "image_212.jpg\n",
      "image_213.jpg\n",
      "image_214.jpg\n",
      "image_215.jpg\n",
      "image_216.jpg\n",
      "image_217.jpg\n",
      "image_218.jpg\n",
      "image_219.jpg\n",
      "image_22.jpg\n",
      "image_220.jpg\n",
      "image_221.jpg\n",
      "image_222.jpg\n",
      "image_223.jpg\n",
      "image_224.jpg\n",
      "image_225.jpg\n",
      "image_226.jpg\n",
      "image_227.jpg\n",
      "image_228.jpg\n",
      "image_229.jpg\n",
      "image_23.jpg\n",
      "image_230.jpg\n",
      "image_231.jpg\n",
      "image_232.jpg\n",
      "image_233.jpg\n",
      "image_234.jpg\n",
      "image_235.jpg\n",
      "image_236.jpg\n",
      "image_237.jpg\n",
      "image_238.jpg\n",
      "image_239.jpg\n",
      "image_24.jpg\n",
      "image_240.jpg\n",
      "image_241.jpg\n",
      "image_242.jpg\n",
      "image_243.jpg\n",
      "image_244.jpg\n",
      "image_245.jpg\n",
      "image_246.jpg\n",
      "image_247.jpg\n",
      "image_248.jpg\n",
      "image_249.jpg\n",
      "image_25.jpg\n",
      "image_250.jpg\n",
      "image_251.jpg\n",
      "image_252.jpg\n",
      "image_253.jpg\n",
      "image_254.jpg\n",
      "image_255.jpg\n",
      "image_256.jpg\n",
      "image_257.jpg\n",
      "image_258.jpg\n",
      "image_259.jpg\n",
      "image_26.jpg\n",
      "image_260.jpg\n",
      "image_261.jpg\n",
      "image_262.jpg\n",
      "image_263.jpg\n",
      "image_264.jpg\n",
      "image_265.jpg\n",
      "image_266.jpg\n",
      "image_267.jpg\n",
      "image_268.jpg\n",
      "image_269.jpg\n",
      "image_27.jpg\n",
      "image_270.jpg\n",
      "image_271.jpg\n",
      "image_272.jpg\n",
      "image_273.jpg\n",
      "image_274.jpg\n",
      "image_275.jpg\n",
      "image_276.jpg\n",
      "image_277.jpg\n",
      "image_278.jpg\n",
      "image_279.jpg\n",
      "image_28.jpg\n",
      "image_280.jpg\n",
      "image_281.jpg\n",
      "image_282.jpg\n",
      "image_283.jpg\n",
      "image_284.jpg\n",
      "image_285.jpg\n",
      "image_286.jpg\n",
      "image_287.jpg\n",
      "image_288.jpg\n",
      "image_289.jpg\n",
      "image_29.jpg\n",
      "image_290.jpg\n",
      "image_291.jpg\n",
      "image_292.jpg\n",
      "image_293.jpg\n",
      "image_294.jpg\n",
      "image_295.jpg\n",
      "image_296.jpg\n",
      "image_297.jpg\n",
      "image_298.jpg\n",
      "image_299.jpg\n",
      "image_3.jpg\n",
      "image_30.jpg\n",
      "image_31.jpg\n",
      "image_32.jpg\n",
      "image_33.jpg\n",
      "image_34.jpg\n",
      "image_35.jpg\n",
      "image_36.jpg\n",
      "image_37.jpg\n",
      "image_38.jpg\n",
      "image_39.jpg\n",
      "image_4.jpg\n",
      "image_40.jpg\n",
      "image_41.jpg\n",
      "image_42.jpg\n",
      "image_43.jpg\n",
      "image_44.jpg\n",
      "image_45.jpg\n",
      "image_46.jpg\n",
      "image_47.jpg\n",
      "image_48.jpg\n",
      "image_49.jpg\n",
      "image_5.jpg\n",
      "image_50.jpg\n",
      "image_51.jpg\n",
      "image_52.jpg\n",
      "image_53.jpg\n",
      "image_54.jpg\n",
      "image_55.jpg\n",
      "image_56.jpg\n",
      "image_57.jpg\n",
      "image_58.jpg\n",
      "image_59.jpg\n",
      "image_6.jpg\n",
      "image_60.jpg\n",
      "image_61.jpg\n",
      "image_62.jpg\n",
      "image_63.jpg\n",
      "image_64.jpg\n",
      "image_65.jpg\n",
      "image_66.jpg\n",
      "image_67.jpg\n",
      "image_68.jpg\n",
      "image_69.jpg\n",
      "image_7.jpg\n",
      "image_70.jpg\n",
      "image_71.jpg\n",
      "image_72.jpg\n",
      "image_73.jpg\n",
      "image_74.jpg\n",
      "image_75.jpg\n",
      "image_76.jpg\n",
      "image_77.jpg\n",
      "image_78.jpg\n",
      "image_79.jpg\n",
      "image_8.jpg\n",
      "image_80.jpg\n",
      "image_81.jpg\n",
      "image_82.jpg\n",
      "image_83.jpg\n",
      "image_84.jpg\n",
      "image_85.jpg\n",
      "image_86.jpg\n",
      "image_87.jpg\n",
      "image_88.jpg\n",
      "image_89.jpg\n",
      "image_9.jpg\n",
      "image_90.jpg\n",
      "image_91.jpg\n",
      "image_92.jpg\n",
      "image_93.jpg\n",
      "image_94.jpg\n",
      "image_95.jpg\n",
      "image_96.jpg\n",
      "image_97.jpg\n",
      "image_98.jpg\n",
      "image_99.jpg\n"
     ]
    }
   ],
   "source": [
    "import os\n",
    "from PIL import Image\n",
    "\n",
    "# Set the new width and height\n",
    "new_width = 200\n",
    "new_height = 200\n",
    "\n",
    "# Iterate over the images in a directory\n",
    "for filename in os.listdir(r'C:\\Users\\bouzi\\Desktop\\augmented_images\\class_3\\images'):\n",
    "    print(filename)\n",
    "    # Check if the file is an image\n",
    "    if filename.endswith('.jpg') or filename.endswith('.png'):\n",
    "        # Open the image file\n",
    "        image = Image.open(r'C:\\Users\\bouzi\\Desktop\\augmented_images\\class_3\\images\\{}'.format(filename))\n",
    "        # Resize the image\n",
    "        resized_image = image.resize((new_width, new_height))\n",
    "        # Save the resized image\n",
    "        resized_image.save(r'C:\\Users\\bouzi\\Desktop\\augmented_images\\class_3\\Unknown\\{}'.format(filename))"
   ]
  },
  {
   "cell_type": "code",
   "execution_count": 1,
   "metadata": {},
   "outputs": [
    {
     "data": {
      "text/plain": [
       "array(['anas', 'amina', 'omar', 'Unknown'], dtype='<U32')"
      ]
     },
     "execution_count": 1,
     "metadata": {},
     "output_type": "execute_result"
    }
   ],
   "source": [
    "import os\n",
    "import numpy as np\n",
    "import cv2\n",
    "import matplotlib.pyplot as plt\n",
    "from keras.utils import np_utils\n",
    "from keras.models import Sequential\n",
    "from keras.layers import Dense, Dropout, Flatten\n",
    "from keras.layers import Conv2D, MaxPooling2D\n",
    "from sklearn.model_selection import train_test_split\n",
    "\n",
    "num_classes = 4\n",
    "\n",
    "# Load the face images and labels\n",
    "X = []\n",
    "y = []\n",
    "labels = []\n",
    "labels = np.array(labels)\n",
    "for label in range(num_classes):\n",
    "    folder = r'C:\\Users\\bouzi\\Desktop\\augmented_images\\class_{}'.format(label)\n",
    "    directories = [d for d in os.listdir(folder) if os.path.isdir(os.path.join(folder, d))]\n",
    "    labels = np.append(labels, directories[0])\n",
    "    folder = os.path.join(folder, directories[0])\n",
    "    for image_file in os.listdir(folder):\n",
    "        image = cv2.imread(os.path.join(folder, image_file))\n",
    "        X.append(image)\n",
    "        y.append(label)\n",
    "\n",
    "\n",
    "labels"
   ]
  },
  {
   "cell_type": "code",
   "execution_count": 2,
   "metadata": {},
   "outputs": [],
   "source": [
    "def show_single_image(im):\n",
    "    px = 1. / plt.rcParams['figure.dpi']\n",
    "    plt.figure(figsize=(im.shape[0] * px, im.shape[1] * px))\n",
    "    plt.imshow(im, cmap='gray')\n",
    "    plt.axis('off')\n",
    "    plt.show()"
   ]
  },
  {
   "cell_type": "code",
   "execution_count": 3,
   "metadata": {},
   "outputs": [
    {
     "data": {
      "image/png": "[encoded data removed]",
      "text/plain": [
       "<Figure size 200x200 with 1 Axes>"
      ]
     },
     "metadata": {},
     "output_type": "display_data"
    }
   ],
   "source": [
    "show_single_image(X[0])"
   ]
  },
  {
   "cell_type": "code",
   "execution_count": 4,
   "metadata": {},
   "outputs": [],
   "source": [
    "\n",
    "# Split the data into training and validation sets\n",
    "X_train, X_test, y_train, y_test = train_test_split(X, y, test_size=0.2)"
   ]
  },
  {
   "cell_type": "code",
   "execution_count": 5,
   "metadata": {},
   "outputs": [],
   "source": [
    "y_train = np_utils.to_categorical(y_train, num_classes)\n",
    "y_test = np_utils.to_categorical(y_test, num_classes)"
   ]
  },
  {
   "cell_type": "code",
   "execution_count": 6,
   "metadata": {},
   "outputs": [
    {
     "data": {
      "text/plain": [
       "(200, 200, 3)"
      ]
     },
     "execution_count": 6,
     "metadata": {},
     "output_type": "execute_result"
    }
   ],
   "source": [
    "X_train[300].shape"
   ]
  },
  {
   "cell_type": "code",
   "execution_count": 7,
   "metadata": {},
   "outputs": [],
   "source": [
    "X_train = np.array(X_train ,dtype='float32')/255\n",
    "X_test = np.array(X_test ,dtype='float32')/255"
   ]
  },
  {
   "cell_type": "code",
   "execution_count": null,
   "metadata": {},
   "outputs": [],
   "source": []
  },
  {
   "cell_type": "code",
   "execution_count": 8,
   "metadata": {},
   "outputs": [],
   "source": [
    "# Define the model architecture\n",
    "model = Sequential()\n",
    "model.add(Conv2D(32, (3, 3), activation='relu', input_shape=(200, 200, 3)))\n",
    "model.add(Conv2D(32, (3, 3), activation='relu'))\n",
    "model.add(MaxPooling2D(pool_size=(2, 2)))\n",
    "model.add(Dropout(0.5))\n",
    "model.add(Flatten())\n",
    "model.add(Dense(128, activation='relu'))\n",
    "model.add(Dropout(0.5))\n",
    "model.add(Dense(num_classes, activation='softmax'))"
   ]
  },
  {
   "cell_type": "code",
   "execution_count": 9,
   "metadata": {},
   "outputs": [],
   "source": [
    "# Compile the model\n",
    "model.compile(loss='categorical_crossentropy', optimizer='adam', metrics=['accuracy'])"
   ]
  },
  {
   "cell_type": "code",
   "execution_count": 10,
   "metadata": {},
   "outputs": [
    {
     "name": "stdout",
     "output_type": "stream",
     "text": [
      "Model: \"sequential\"\n",
      "_________________________________________________________________\n",
      " Layer (type)                Output Shape              Param #   \n",
      "=================================================================\n",
      " conv2d (Conv2D)             (None, 198, 198, 32)      896       \n",
      "                                                                 \n",
      " conv2d_1 (Conv2D)           (None, 196, 196, 32)      9248      \n",
      "                                                                 \n",
      " max_pooling2d (MaxPooling2D  (None, 98, 98, 32)       0         \n",
      " )                                                               \n",
      "                                                                 \n",
      " dropout (Dropout)           (None, 98, 98, 32)        0         \n",
      "                                                                 \n",
      " flatten (Flatten)           (None, 307328)            0         \n",
      "                                                                 \n",
      " dense (Dense)               (None, 128)               39338112  \n",
      "                                                                 \n",
      " dropout_1 (Dropout)         (None, 128)               0         \n",
      "                                                                 \n",
      " dense_1 (Dense)             (None, 4)                 516       \n",
      "                                                                 \n",
      "=================================================================\n",
      "Total params: 39,348,772\n",
      "Trainable params: 39,348,772\n",
      "Non-trainable params: 0\n",
      "_________________________________________________________________\n"
     ]
    }
   ],
   "source": [
    "model.summary()\n"
   ]
  },
  {
   "cell_type": "code",
   "execution_count": 11,
   "metadata": {},
   "outputs": [
    {
     "name": "stdout",
     "output_type": "stream",
     "text": [
      "Epoch 1/10\n",
      "15/15 [==============================] - 6s 94ms/step - loss: 6.6308 - accuracy: 0.5292\n",
      "Epoch 2/10\n",
      "15/15 [==============================] - 1s 96ms/step - loss: 0.3369 - accuracy: 0.9083\n",
      "Epoch 3/10\n",
      "15/15 [==============================] - 1s 98ms/step - loss: 0.1057 - accuracy: 0.9750\n",
      "Epoch 4/10\n",
      "15/15 [==============================] - 1s 95ms/step - loss: 0.0357 - accuracy: 0.9896\n",
      "Epoch 5/10\n",
      "15/15 [==============================] - 1s 83ms/step - loss: 0.0349 - accuracy: 0.9875\n",
      "Epoch 6/10\n",
      "15/15 [==============================] - 1s 83ms/step - loss: 0.0368 - accuracy: 0.9917\n",
      "Epoch 7/10\n",
      "15/15 [==============================] - 1s 83ms/step - loss: 0.0171 - accuracy: 0.9979\n",
      "Epoch 8/10\n",
      "15/15 [==============================] - 1s 84ms/step - loss: 0.0115 - accuracy: 0.9979\n",
      "Epoch 9/10\n",
      "15/15 [==============================] - 1s 87ms/step - loss: 0.0170 - accuracy: 0.9937\n",
      "Epoch 10/10\n",
      "15/15 [==============================] - 1s 88ms/step - loss: 0.0087 - accuracy: 1.0000\n"
     ]
    }
   ],
   "source": [
    "history = model.fit(X_train, y_train, epochs = 10, batch_size = 32, verbose = 1, shuffle = 1)"
   ]
  },
  {
   "cell_type": "code",
   "execution_count": 27,
   "metadata": {},
   "outputs": [
    {
     "name": "stdout",
     "output_type": "stream",
     "text": [
      "(200, 200, 3)\n",
      "(1, 200, 200, 3)\n"
     ]
    }
   ],
   "source": [
    "from PIL import Image\n",
    "new_height = 200\n",
    "new_width = 200\n",
    "image = Image.open(r'C:\\Users\\bouzi\\Desktop\\Github\\Security-System-Raspberry-Project\\app\\front\\src\\data\\frame6.jpg')\n",
    "       \n",
    "resized_image = image.resize((new_width, new_height)) \n",
    "resized_image.save(r'C:\\Users\\bouzi\\Desktop\\Github\\Security-System-Raspberry-Project\\app\\front\\src\\data\\avatar_resized.jpg')\n",
    "\n",
    "image = cv2.imread(r'C:\\Users\\bouzi\\Desktop\\Github\\Security-System-Raspberry-Project\\app\\front\\src\\data\\avatar_resized.jpg')\n",
    "\n",
    "print(image.shape)\n",
    "\n",
    "image = np.array(image,dtype='float32')\n",
    "image = image.reshape((-1, 200, 200, 3))\n",
    "\n",
    "print(image.shape)"
   ]
  },
  {
   "cell_type": "code",
   "execution_count": 28,
   "metadata": {},
   "outputs": [
    {
     "name": "stdout",
     "output_type": "stream",
     "text": [
      "1/1 [==============================] - 0s 23ms/step\n"
     ]
    }
   ],
   "source": [
    "predictions = model.predict(image)"
   ]
  },
  {
   "cell_type": "code",
   "execution_count": 29,
   "metadata": {},
   "outputs": [
    {
     "name": "stdout",
     "output_type": "stream",
     "text": [
      "3\n",
      "Predicted label: Unknown\n"
     ]
    }
   ],
   "source": [
    "predictionslabel = np.argmax(predictions)\n",
    "print(predictionslabel)\n",
    "label = labels[predictionslabel]\n",
    "\n",
    "print('Predicted label:', label)"
   ]
  },
  {
   "cell_type": "code",
   "execution_count": null,
   "metadata": {},
   "outputs": [],
   "source": [
    "model.save('model.h5')"
   ]
  },
  {
   "cell_type": "code",
   "execution_count": 1,
   "metadata": {},
   "outputs": [],
   "source": [
    "f = open(r\"C:\\Users\\bouzi\\Desktop\\Github\\Security-System-Raspberry-Project\\SecurityGate\\lightTelemetry.csv\", \"w\")\n",
    "f.truncate()\n",
    "f.close()"
   ]
  },
  {
   "cell_type": "code",
   "execution_count": 2,
   "metadata": {},
   "outputs": [],
   "source": [
    "import csv\n",
    " \n",
    "with open(r\"C:\\Users\\bouzi\\Desktop\\Github\\Security-System-Raspberry-Project\\SecurityGate\\lightTelemetry.csv\", 'r') as input_csv:\n",
    "  reader = csv.reader(input_csv)\n",
    "  with open(r\"C:\\Users\\bouzi\\Desktop\\Github\\Security-System-Raspberry-Project\\SecurityGate\\test.csv\", 'w', newline='') as output_csv:\n",
    "    writer = csv.writer(output_csv)\n",
    "    for i, row in enumerate(reader):\n",
    "      if i == 0:\n",
    "        writer.writerow(row)\n",
    "      else:\n",
    "        continue\n",
    "input_csv.close()\n",
    "output_csv.close()\n",
    "\n"
   ]
  },
  {
   "cell_type": "code",
   "execution_count": 3,
   "metadata": {},
   "outputs": [],
   "source": [
    "os.remove(r\"C:\\Users\\bouzi\\Desktop\\Github\\Security-System-Raspberry-Project\\SecurityGate\\lightTelemetry.csv\")"
   ]
  },
  {
   "cell_type": "code",
   "execution_count": 4,
   "metadata": {},
   "outputs": [],
   "source": [
    "import os\n",
    "\n",
    "# Absolute path of a file\n",
    "old_name = r\"C:\\Users\\bouzi\\Desktop\\Github\\Security-System-Raspberry-Project\\SecurityGate\\test.csv\"\n",
    "new_name = r\"C:\\Users\\bouzi\\Desktop\\Github\\Security-System-Raspberry-Project\\SecurityGate\\lightTelemetry.csv\"\n",
    "\n",
    "# Renaming the file\n",
    "os.rename(old_name, new_name)"
   ]
  }
 ],
 "metadata": {
  "kernelspec": {
   "display_name": "Python 3",
   "language": "python",
   "name": "python3"
  },
  "language_info": {
   "codemirror_mode": {
    "name": "ipython",
    "version": 3
   },
   "file_extension": ".py",
   "mimetype": "text/x-python",
   "name": "python",
   "nbconvert_exporter": "python",
   "pygments_lexer": "ipython3",
   "version": "3.11.0"
  },
  "orig_nbformat": 4,
  "vscode": {
   "interpreter": {
    "hash": "c261aea317cc0286b3b3261fbba9abdec21eaa57589985bb7a274bf54d6cc0a7"
   }
  }
 },
 "nbformat": 4,
 "nbformat_minor": 2
}
